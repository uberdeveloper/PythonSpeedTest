{
 "cells": [
  {
   "cell_type": "markdown",
   "id": "1ad8f5cd-e3dc-4337-a964-a80d2ec3b33c",
   "metadata": {},
   "source": [
    "### Overview\n",
    "\n",
    "This notebook measures the speed between\n",
    "\n",
    " * regular python function\n",
    " * numba function\n",
    " * numba with inline numba functions\n",
    "\n",
    "We would use a simple tradebook example to test this.\n",
    "\n",
    "In this example, we would be BUY a instrument when the price goes above the high price of a previous lookback period or SELL the instrument when the price goes below the low price"
   ]
  },
  {
   "cell_type": "markdown",
   "id": "77d0bb5f-ff12-4ae3-8ea1-9dcd35cce050",
   "metadata": {},
   "source": [
    "#### Downloading data\n",
    "\n",
    "Download data to be used"
   ]
  },
  {
   "cell_type": "code",
   "execution_count": 1,
   "id": "f5739a3c-6a24-48ba-acf7-74fd1afcd567",
   "metadata": {},
   "outputs": [
    {
     "data": {
      "text/html": [
       "<div>\n",
       "<style scoped>\n",
       "    .dataframe tbody tr th:only-of-type {\n",
       "        vertical-align: middle;\n",
       "    }\n",
       "\n",
       "    .dataframe tbody tr th {\n",
       "        vertical-align: top;\n",
       "    }\n",
       "\n",
       "    .dataframe thead th {\n",
       "        text-align: right;\n",
       "    }\n",
       "</style>\n",
       "<table border=\"1\" class=\"dataframe\">\n",
       "  <thead>\n",
       "    <tr style=\"text-align: right;\">\n",
       "      <th></th>\n",
       "      <th>open</th>\n",
       "      <th>high</th>\n",
       "      <th>low</th>\n",
       "      <th>close</th>\n",
       "      <th>volume</th>\n",
       "      <th>dividends</th>\n",
       "      <th>stock splits</th>\n",
       "    </tr>\n",
       "    <tr>\n",
       "      <th>Date</th>\n",
       "      <th></th>\n",
       "      <th></th>\n",
       "      <th></th>\n",
       "      <th></th>\n",
       "      <th></th>\n",
       "      <th></th>\n",
       "      <th></th>\n",
       "    </tr>\n",
       "  </thead>\n",
       "  <tbody>\n",
       "    <tr>\n",
       "      <th>1986-03-13 00:00:00-05:00</th>\n",
       "      <td>0.054594</td>\n",
       "      <td>0.062623</td>\n",
       "      <td>0.054594</td>\n",
       "      <td>0.059946</td>\n",
       "      <td>1031788800</td>\n",
       "      <td>0.0</td>\n",
       "      <td>0.0</td>\n",
       "    </tr>\n",
       "    <tr>\n",
       "      <th>1986-03-14 00:00:00-05:00</th>\n",
       "      <td>0.059947</td>\n",
       "      <td>0.063158</td>\n",
       "      <td>0.059947</td>\n",
       "      <td>0.062087</td>\n",
       "      <td>308160000</td>\n",
       "      <td>0.0</td>\n",
       "      <td>0.0</td>\n",
       "    </tr>\n",
       "    <tr>\n",
       "      <th>1986-03-17 00:00:00-05:00</th>\n",
       "      <td>0.062087</td>\n",
       "      <td>0.063694</td>\n",
       "      <td>0.062087</td>\n",
       "      <td>0.063158</td>\n",
       "      <td>133171200</td>\n",
       "      <td>0.0</td>\n",
       "      <td>0.0</td>\n",
       "    </tr>\n",
       "    <tr>\n",
       "      <th>1986-03-18 00:00:00-05:00</th>\n",
       "      <td>0.063158</td>\n",
       "      <td>0.063694</td>\n",
       "      <td>0.061017</td>\n",
       "      <td>0.061552</td>\n",
       "      <td>67766400</td>\n",
       "      <td>0.0</td>\n",
       "      <td>0.0</td>\n",
       "    </tr>\n",
       "    <tr>\n",
       "      <th>1986-03-19 00:00:00-05:00</th>\n",
       "      <td>0.061552</td>\n",
       "      <td>0.062087</td>\n",
       "      <td>0.059947</td>\n",
       "      <td>0.060482</td>\n",
       "      <td>47894400</td>\n",
       "      <td>0.0</td>\n",
       "      <td>0.0</td>\n",
       "    </tr>\n",
       "  </tbody>\n",
       "</table>\n",
       "</div>"
      ],
      "text/plain": [
       "                               open      high       low     close      volume   \n",
       "Date                                                                            \n",
       "1986-03-13 00:00:00-05:00  0.054594  0.062623  0.054594  0.059946  1031788800  \\\n",
       "1986-03-14 00:00:00-05:00  0.059947  0.063158  0.059947  0.062087   308160000   \n",
       "1986-03-17 00:00:00-05:00  0.062087  0.063694  0.062087  0.063158   133171200   \n",
       "1986-03-18 00:00:00-05:00  0.063158  0.063694  0.061017  0.061552    67766400   \n",
       "1986-03-19 00:00:00-05:00  0.061552  0.062087  0.059947  0.060482    47894400   \n",
       "\n",
       "                           dividends  stock splits  \n",
       "Date                                                \n",
       "1986-03-13 00:00:00-05:00        0.0           0.0  \n",
       "1986-03-14 00:00:00-05:00        0.0           0.0  \n",
       "1986-03-17 00:00:00-05:00        0.0           0.0  \n",
       "1986-03-18 00:00:00-05:00        0.0           0.0  \n",
       "1986-03-19 00:00:00-05:00        0.0           0.0  "
      ]
     },
     "execution_count": 1,
     "metadata": {},
     "output_type": "execute_result"
    }
   ],
   "source": [
    "import yfinance as yf\n",
    "import numpy as np\n",
    "from numba import njit\n",
    "\n",
    "msft = yf.Ticker(\"MSFT\")\n",
    "\n",
    "# get all stock info\n",
    "msft.info\n",
    "\n",
    "# get historical market data\n",
    "df = msft.history(period=\"max\")\n",
    "df.columns = [x.lower() for x in df.columns]\n",
    "df.head()"
   ]
  },
  {
   "cell_type": "markdown",
   "id": "a447e440-dae5-49ac-9d1e-a9cc9e6ddef5",
   "metadata": {},
   "source": [
    "#### Test timing\n",
    "\n",
    "We are creating a few simple functions to test the time difference between code directly written inside numba and calling a numba function inside numba "
   ]
  },
  {
   "cell_type": "code",
   "execution_count": 2,
   "id": "f2a64ec8-5c12-4fc1-9bd3-1b29ee315a4e",
   "metadata": {},
   "outputs": [],
   "source": [
    "def tradebook_long(close, date):\n",
    "    \"\"\"\n",
    "    long only tradebook\n",
    "    \"\"\"\n",
    "    length = len(close)\n",
    "    side = 0\n",
    "    entry_price = exit_price = 0\n",
    "    entry_time = exit_time = date[0]\n",
    "    for i in range(1, length):\n",
    "        if side == 0 and close[i] > close[i - 1]:\n",
    "            side = 1\n",
    "            entry_price = close[i]\n",
    "            entry_time = date[i]\n",
    "    exit_price = close[-1]\n",
    "    exit_time = date[-1]\n",
    "\n",
    "    return side, entry_price, entry_time, exit_price, exit_time\n",
    "\n",
    "\n",
    "def tradebook_short(close, date):\n",
    "    \"\"\"\n",
    "    short only tradebook\n",
    "    \"\"\"\n",
    "    length = len(close)\n",
    "    side = 0\n",
    "    entry_price = exit_price = 0\n",
    "    entry_time = exit_time = date[0]\n",
    "    for i in range(1, length):\n",
    "        if side == 0 and close[i] < close[i - 1]:\n",
    "            side = -1\n",
    "            entry_price = close[i]\n",
    "            entry_time = date[i]\n",
    "    exit_price = close[-1]\n",
    "    exit_time = date[-1]\n",
    "\n",
    "    return side, entry_price, entry_time, exit_price, exit_time\n",
    "\n",
    "\n",
    "def tradebook(close, date, start: int = 300):\n",
    "    \"\"\"\n",
    "    both long and short tradebook\n",
    "    \"\"\"\n",
    "    length = len(close)\n",
    "    side = 0\n",
    "    entry_price = exit_price = 0\n",
    "    entry_time = exit_time = date[0]\n",
    "    ref_high = np.max(close[:start])\n",
    "    ref_low = np.min(close[:start])\n",
    "    for i in range(start, length):\n",
    "        if side == 0:\n",
    "            if close[i] > ref_high:\n",
    "                side = 1\n",
    "                entry_price = close[i]\n",
    "                entry_time = date[i]\n",
    "            elif close[i] < ref_low:\n",
    "                side = -1\n",
    "                entry_price = close[i]\n",
    "                entry_time = date[i]\n",
    "    exit_price = close[i]\n",
    "    exit_time = date[i]\n",
    "    return side, entry_price, entry_time, exit_price, exit_time\n",
    "\n",
    "\n",
    "# create the numba functions\n",
    "ntradebook_long = njit(tradebook_long)\n",
    "ntradebook_short = njit(tradebook_short)\n",
    "ntradebook = njit(tradebook)"
   ]
  },
  {
   "cell_type": "code",
   "execution_count": 3,
   "id": "528777c5-8d33-4535-baf1-34df216fd5c1",
   "metadata": {},
   "outputs": [
    {
     "data": {
      "text/plain": [
       "(1,\n",
       " 0.27404147386550903,\n",
       " numpy.datetime64('1987-09-28T04:00:00.000000000'),\n",
       " 416.32000732421875,\n",
       " numpy.datetime64('2024-10-11T04:00:00.000000000'))"
      ]
     },
     "execution_count": 3,
     "metadata": {},
     "output_type": "execute_result"
    }
   ],
   "source": [
    "# Numba inline function\n",
    "@njit\n",
    "def tradebook_inline(close, date, start: int = 300):\n",
    "    length = len(close)\n",
    "    ref_high = np.max(close[:start])\n",
    "    ref_low = np.min(close[:start])\n",
    "    for i in range(start, length):\n",
    "        if close[i] > ref_high:\n",
    "            return ntradebook_long(close[i - 1 :], date[i - 1 :])\n",
    "        elif close[i] < ref_low:\n",
    "            return ntradebook_short(close[i - 1 :], date[i - 1 :])\n",
    "\n",
    "\n",
    "tradebook_inline(df.close.values, df.index.values)"
   ]
  },
  {
   "cell_type": "code",
   "execution_count": 4,
   "id": "7bba212d-5393-4226-9a70-f8c5055ca68b",
   "metadata": {},
   "outputs": [
    {
     "name": "stdout",
     "output_type": "stream",
     "text": [
      "(1, 0.062087323516607285, numpy.datetime64('1986-03-14T05:00:00.000000000'), 416.32000732421875, numpy.datetime64('2024-10-11T04:00:00.000000000'))\n",
      "(-1, 0.061552081257104874, numpy.datetime64('1986-03-18T05:00:00.000000000'), 416.32000732421875, numpy.datetime64('2024-10-11T04:00:00.000000000'))\n",
      "(1, 0.27404147386550903, numpy.datetime64('1987-09-28T04:00:00.000000000'), 416.32000732421875, numpy.datetime64('2024-10-11T04:00:00.000000000'))\n",
      "(1, 0.062087323516607285, numpy.datetime64('1986-03-14T05:00:00.000000000'), 416.32000732421875, numpy.datetime64('2024-10-11T04:00:00.000000000'))\n",
      "(-1, 0.061552081257104874, numpy.datetime64('1986-03-18T05:00:00.000000000'), 416.32000732421875, numpy.datetime64('2024-10-11T04:00:00.000000000'))\n",
      "(1, 0.27404147386550903, numpy.datetime64('1987-09-28T04:00:00.000000000'), 416.32000732421875, numpy.datetime64('2024-10-11T04:00:00.000000000'))\n",
      "(1, 0.27404147386550903, numpy.datetime64('1987-09-28T04:00:00.000000000'), 416.32000732421875, numpy.datetime64('2024-10-11T04:00:00.000000000'))\n"
     ]
    }
   ],
   "source": [
    "# Print values to see if they are right and also to run the njit function once\n",
    "print(tradebook_long(df.close.values, df.index.values))\n",
    "print(tradebook_short(df.close.values, df.index.values))\n",
    "print(tradebook(df.close.values, df.index.values))\n",
    "print(ntradebook_long(df.close.values, df.index.values))\n",
    "print(ntradebook_short(df.close.values, df.index.values))\n",
    "print(ntradebook(df.close.values, df.index.values))\n",
    "print(tradebook_inline(df.close.values, df.index.values))"
   ]
  },
  {
   "cell_type": "code",
   "execution_count": 5,
   "id": "1de004c6-daeb-44b6-b4a3-47330646b662",
   "metadata": {},
   "outputs": [
    {
     "name": "stdout",
     "output_type": "stream",
     "text": [
      "508 µs ± 22.5 µs per loop (mean ± std. dev. of 7 runs, 1,000 loops each)\n",
      "504 µs ± 12.5 µs per loop (mean ± std. dev. of 7 runs, 1,000 loops each)\n",
      "580 µs ± 85.4 µs per loop (mean ± std. dev. of 7 runs, 1,000 loops each)\n",
      "18.6 µs ± 271 ns per loop (mean ± std. dev. of 7 runs, 100,000 loops each)\n",
      "18.9 µs ± 380 ns per loop (mean ± std. dev. of 7 runs, 100,000 loops each)\n",
      "19.5 µs ± 96.4 ns per loop (mean ± std. dev. of 7 runs, 100,000 loops each)\n",
      "19.6 µs ± 135 ns per loop (mean ± std. dev. of 7 runs, 100,000 loops each)\n"
     ]
    }
   ],
   "source": [
    "# %timeit values to see if they are right and also to run the njit function once\n",
    "%timeit tradebook_long(df.close.values, df.index.values)\n",
    "%timeit tradebook_short(df.close.values, df.index.values)\n",
    "%timeit tradebook(df.close.values, df.index.values)\n",
    "%timeit ntradebook_long(df.close.values, df.index.values)\n",
    "%timeit ntradebook_short(df.close.values, df.index.values)\n",
    "%timeit ntradebook(df.close.values, df.index.values)\n",
    "%timeit tradebook_inline(df.close.values, df.index.values)"
   ]
  },
  {
   "cell_type": "markdown",
   "id": "4cd01ca1-fa72-45a9-82de-73542166adfa",
   "metadata": {},
   "source": [
    "#### Inlining speed without loop\n",
    "\n",
    "Here we would be testing numba function with a single step instead of a loop. This function would just return a True or False for every value in the array and whether numba would automatically inline this function\n",
    "\n",
    "<div class=\"alert alert-block alert-success\"> Man, this is stunning, loops are automatically inlined so you can write lot of one liners</div>"
   ]
  },
  {
   "cell_type": "code",
   "execution_count": 10,
   "id": "07e01656-4a33-44b3-92a1-3f069df9d145",
   "metadata": {},
   "outputs": [],
   "source": [
    "def loop_run(prices, val=1e6):\n",
    "    length = len(prices)\n",
    "    for i in range(length):\n",
    "        # We know prices would always be less than val so the entire loop would be run\n",
    "        if prices[i] > val:\n",
    "            return prices[i]\n",
    "    return prices[i]\n",
    "assert round(loop_run(df.close.values),4) == round(df.close.iloc[-1],4)"
   ]
  },
  {
   "cell_type": "code",
   "execution_count": 14,
   "id": "f39b4898-256a-48ba-b11d-c8775312d2b3",
   "metadata": {},
   "outputs": [
    {
     "name": "stdout",
     "output_type": "stream",
     "text": [
      "144 ns ± 2.58 ns per loop (mean ± std. dev. of 7 runs, 10,000,000 loops each)\n",
      "300 ns ± 4.63 ns per loop (mean ± std. dev. of 7 runs, 1,000,000 loops each)\n"
     ]
    }
   ],
   "source": [
    "@njit\n",
    "def ncmp(x,val):\n",
    "    return True if x > val else False\n",
    "\n",
    "cmp = lambda x,val: True if x > val else False\n",
    "\n",
    "ncmp(10,15)\n",
    "%timeit cmp(10,15)\n",
    "%timeit ncmp(10,15)"
   ]
  },
  {
   "cell_type": "code",
   "execution_count": 17,
   "id": "aa42a8f6-3a73-45f9-9896-49c90bb8703e",
   "metadata": {},
   "outputs": [],
   "source": [
    "@njit\n",
    "def inline_loop_run(prices, val=1e6):\n",
    "    length = len(prices)\n",
    "    for i in range(length):\n",
    "        # We know prices would always be less than val so the entire loop would be run\n",
    "        k = ncmp(prices[i], val)\n",
    "        if k:\n",
    "            return prices[i]\n",
    "    return prices[i]\n",
    "assert round(inline_loop_run(df.close.values),4) == round(df.close.iloc[-1],4)"
   ]
  },
  {
   "cell_type": "code",
   "execution_count": 18,
   "id": "fece4f55-8ed3-47e8-a758-8e0097bffc00",
   "metadata": {},
   "outputs": [
    {
     "name": "stdout",
     "output_type": "stream",
     "text": [
      "2.03 ms ± 94.6 µs per loop (mean ± std. dev. of 7 runs, 100 loops each)\n",
      "17.6 µs ± 7.47 ns per loop (mean ± std. dev. of 7 runs, 100,000 loops each)\n",
      "17.6 µs ± 6.22 ns per loop (mean ± std. dev. of 7 runs, 100,000 loops each)\n"
     ]
    }
   ],
   "source": [
    "nloop_run = njit(loop_run)\n",
    "%timeit loop_run(df.close.values)\n",
    "%timeit nloop_run(df.close.values)\n",
    "%timeit inline_loop_run(df.close.values)"
   ]
  }
 ],
 "metadata": {
  "kernelspec": {
   "display_name": "Python 3 (ipykernel)",
   "language": "python",
   "name": "python3"
  },
  "language_info": {
   "codemirror_mode": {
    "name": "ipython",
    "version": 3
   },
   "file_extension": ".py",
   "mimetype": "text/x-python",
   "name": "python",
   "nbconvert_exporter": "python",
   "pygments_lexer": "ipython3",
   "version": "3.9.20"
  }
 },
 "nbformat": 4,
 "nbformat_minor": 5
}
