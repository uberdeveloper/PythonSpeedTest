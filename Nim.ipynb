{
 "cells": [
  {
   "cell_type": "markdown",
   "id": "2dd677e8-f506-49ed-8cda-06fb865e7265",
   "metadata": {},
   "source": [
    "\n",
    "## Compare speed between python and Nim Code\n",
    "\n",
    "This notebook compares speed between python and Nim generated code.\n",
    "\n",
    "This replicates the code [here](https://medium.com/statch/speeding-up-python-code-with-nim-ec205a8a5d9c) by **Paul Przybyszewski**\n"
   ]
  },
  {
   "cell_type": "code",
   "execution_count": 1,
   "id": "569eae37-559f-4c3f-959d-8aa890311766",
   "metadata": {},
   "outputs": [],
   "source": [
    "def python_fib(n):\n",
    "    if n == 0:\n",
    "        return 0\n",
    "    elif n < 3:\n",
    "        return 1\n",
    "    return python_fib(n - 1) + python_fib(n - 2)"
   ]
  },
  {
   "cell_type": "raw",
   "id": "2faed1c9-f31f-4282-9d3c-bfcb3ce40af2",
   "metadata": {},
   "source": [
    "# Nim code - create a file \n",
    "# Copy the below code to a file and compile it using the next cell\n",
    "# If you have cloned this repository, this file would already available\n",
    "# Make sure you have installed nimpy with `nimble install nimpy`\n",
    "\n",
    "import nimpy\n",
    "\n",
    "proc nim_fib(n: int): int {.exportpy.} =\n",
    "    if n == 0:\n",
    "        return 0\n",
    "    elif n < 3:\n",
    "        return 1\n",
    "    return nim_fib(n-1) + nim_fib(n-2)"
   ]
  },
  {
   "cell_type": "code",
   "execution_count": 2,
   "id": "94957f09-7086-419a-aadd-67bfdbc2f915",
   "metadata": {},
   "outputs": [
    {
     "name": "stdout",
     "output_type": "stream",
     "text": [
      "Removing file nmath\n",
      "Removing file nmath_fast\n"
     ]
    }
   ],
   "source": [
    "import os\n",
    "if os.path.exists(\"nmath\"):\n",
    "    print(\"Removing file nmath\")\n",
    "    os.remove(\"nmath\")\n",
    "if os.path.exists(\"nmath_fast\"):\n",
    "    print(\"Removing file nmath_fast\")\n",
    "    os.remove(\"nmath_fast\")"
   ]
  },
  {
   "cell_type": "code",
   "execution_count": 3,
   "id": "f2c108d5-08bb-4fb9-af30-0c40a399b332",
   "metadata": {},
   "outputs": [
    {
     "name": "stdout",
     "output_type": "stream",
     "text": [
      "\u001b[1m\u001b[0m\u001b[32mHint: \u001b[0mused config file '/home/pi/reps/Nim/config/nim.cfg'\u001b[36m [Conf]\u001b[0m\u001b[0m\n",
      "\u001b[1m\u001b[0m\u001b[32mHint: \u001b[0mused config file '/home/pi/reps/Nim/config/config.nims'\u001b[36m [Conf]\u001b[0m\u001b[0m\n",
      ".....................................................................................................................................\n",
      "\u001b[1m/home/pi/PythonSpeedTest/nmath.nim(3, 29) \u001b[0mtemplate/generic instantiation of `exportpy` from here\u001b[0m\n",
      "\u001b[1m/home/pi/.nimble/pkgs2/nimpy-0.2.0-c34ee30753499b36c8f55f805ce1926275749985/nimpy.nim(562, 32) \u001b[0m\u001b[33mWarning: \u001b[0muse explicit initialization of 'arg0n' for clarity\u001b[36m [Uninit]\u001b[0m\u001b[0m\n",
      "\u001b[1m/home/pi/PythonSpeedTest/nmath.nim(3, 29) \u001b[0mtemplate/generic instantiation of `exportpy` from here\u001b[0m\n",
      "\u001b[1m/home/pi/.nimble/pkgs2/nimpy-0.2.0-c34ee30753499b36c8f55f805ce1926275749985/nimpy.nim(562, 32) \u001b[0m\u001b[33mWarning: \u001b[0muse explicit initialization of 'arg0n' for clarity\u001b[36m [Uninit]\u001b[0m\u001b[0m\n",
      "\u001b[1m\u001b[0m\u001b[32mHint: \u001b[0m\u001b[36m [Link]\u001b[0m\u001b[0m\n",
      "\u001b[1m\u001b[0m\u001b[32mHint: \u001b[0mmm: orc; threads: on; opt: none (DEBUG BUILD, `-d:release` generates faster code)\n",
      "65974 lines; 1.652s; 113.75MiB peakmem; proj: nmath; out: /home/pi/PythonSpeedTest/nmath\u001b[36m [SuccessX]\u001b[0m\u001b[0m\n",
      "\u001b[1m\u001b[0m\u001b[32mHint: \u001b[0mused config file '/home/pi/reps/Nim/config/nim.cfg'\u001b[36m [Conf]\u001b[0m\u001b[0m\n",
      "\u001b[1m\u001b[0m\u001b[32mHint: \u001b[0mused config file '/home/pi/reps/Nim/config/config.nims'\u001b[36m [Conf]\u001b[0m\u001b[0m\n",
      ".....................................................................................................................................\n",
      "\u001b[1m/home/pi/PythonSpeedTest/nmath_fast.nim(3, 29) \u001b[0mtemplate/generic instantiation of `exportpy` from here\u001b[0m\n",
      "\u001b[1m/home/pi/.nimble/pkgs2/nimpy-0.2.0-c34ee30753499b36c8f55f805ce1926275749985/nimpy.nim(562, 32) \u001b[0m\u001b[33mWarning: \u001b[0muse explicit initialization of 'arg0n' for clarity\u001b[36m [Uninit]\u001b[0m\u001b[0m\n",
      "\u001b[1m/home/pi/PythonSpeedTest/nmath_fast.nim(3, 29) \u001b[0mtemplate/generic instantiation of `exportpy` from here\u001b[0m\n",
      "\u001b[1m/home/pi/.nimble/pkgs2/nimpy-0.2.0-c34ee30753499b36c8f55f805ce1926275749985/nimpy.nim(562, 32) \u001b[0m\u001b[33mWarning: \u001b[0muse explicit initialization of 'arg0n' for clarity\u001b[36m [Uninit]\u001b[0m\u001b[0m\n",
      "CC: ../reps/Nim/lib/system/exceptions.nim\n",
      "CC: ../reps/Nim/lib/std/private/digitsutils.nim\n",
      "CC: ../reps/Nim/lib/std/assertions.nim\n",
      "CC: ../reps/Nim/lib/system/dollars.nim\n",
      "CC: ../reps/Nim/lib/system.nim\n",
      "CC: ../reps/Nim/lib/pure/strutils.nim\n",
      "CC: ../reps/Nim/lib/pure/dynlib.nim\n",
      "CC: ../reps/Nim/lib/pure/times.nim\n",
      "CC: ../reps/Nim/lib/std/envvars.nim\n",
      "CC: ../reps/Nim/lib/std/cmdline.nim\n",
      "CC: ../.nimble/pkgs2/nimpy-0.2.0-c34ee30753499b36c8f55f805ce1926275749985/nimpy/py_lib.nim\n",
      "CC: ../.nimble/pkgs2/nimpy-0.2.0-c34ee30753499b36c8f55f805ce1926275749985/nimpy/py_utils.nim\n",
      "CC: ../.nimble/pkgs2/nimpy-0.2.0-c34ee30753499b36c8f55f805ce1926275749985/nimpy/py_nim_marshalling.nim\n",
      "CC: ../.nimble/pkgs2/nimpy-0.2.0-c34ee30753499b36c8f55f805ce1926275749985/nimpy.nim\n",
      "CC: nmath_fast.nim\n",
      "\u001b[1m\u001b[0m\u001b[32mHint: \u001b[0m\u001b[36m [Link]\u001b[0m\u001b[0m\n",
      "\u001b[1m\u001b[0m\u001b[32mHint: \u001b[0mmm: orc; threads: on; opt: speed; options: -d:release\n",
      "65974 lines; 5.443s; 91.699MiB peakmem; proj: nmath_fast; out: /home/pi/PythonSpeedTest/nmath_fast\u001b[36m [SuccessX]\u001b[0m\u001b[0m\n"
     ]
    }
   ],
   "source": [
    "! nim c nmath\n",
    "! nim c -d:release nmath_fast"
   ]
  },
  {
   "cell_type": "code",
   "execution_count": 11,
   "id": "3df13cc5-fd96-478d-870e-2745b7793bd2",
   "metadata": {},
   "outputs": [
    {
     "name": "stdout",
     "output_type": "stream",
     "text": [
      "Measuring Python...\n",
      "Measuring Nim...\n",
      "Measuring Fast Nim...\n",
      "---------\n",
      "Python Elapsed: 56.2544\n",
      "Nim Elapsed: 0.0255\n",
      "Nim Fast Elapsed: 0.0215\n"
     ]
    }
   ],
   "source": [
    "import nimporter\n",
    "from time import perf_counter\n",
    "import nmath # Nim imports!\n",
    "import nmath_fast # Nim imports!\n",
    "\n",
    "print('Measuring Python...')\n",
    "start_py = perf_counter()\n",
    "for i in range(0, 40):\n",
    "    python_fib(i)\n",
    "end_py = perf_counter()\n",
    "\n",
    "\n",
    "print('Measuring Nim...')\n",
    "start_nim = perf_counter()\n",
    "for i in range(0, 40):\n",
    "    nmath.nim_fib(i)\n",
    "end_nim = perf_counter()\n",
    "\n",
    "print('Measuring Fast Nim...')\n",
    "start_fast_nim = perf_counter()\n",
    "for i in range(0, 40):\n",
    "    nmath_fast.nim_fib(i)\n",
    "end_fast_nim = perf_counter()\n",
    "\n",
    "print('---------')\n",
    "print('Python Elapsed: {:.4f}'.format(end_py - start_py))\n",
    "print('Nim Elapsed: {:.4f}'.format(end_nim - start_nim))\n",
    "print('Nim Fast Elapsed: {:.4f}'.format(end_fast_nim - start_fast_nim))"
   ]
  }
 ],
 "metadata": {
  "kernelspec": {
   "display_name": "Python 3 (ipykernel)",
   "language": "python",
   "name": "python3"
  },
  "language_info": {
   "codemirror_mode": {
    "name": "ipython",
    "version": 3
   },
   "file_extension": ".py",
   "mimetype": "text/x-python",
   "name": "python",
   "nbconvert_exporter": "python",
   "pygments_lexer": "ipython3",
   "version": "3.9.20"
  }
 },
 "nbformat": 4,
 "nbformat_minor": 5
}
