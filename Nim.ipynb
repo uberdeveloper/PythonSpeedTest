{
 "cells": [
  {
   "cell_type": "markdown",
   "id": "2dd677e8-f506-49ed-8cda-06fb865e7265",
   "metadata": {},
   "source": [
    "\n",
    "## Compare speed between python and Nim Code\n",
    "\n",
    "This notebook compares speed between python and Nim generated code.\n",
    "\n",
    "This replicates the code [here](https://medium.com/statch/speeding-up-python-code-with-nim-ec205a8a5d9c) by **Paul Przybyszewski**\n"
   ]
  },
  {
   "cell_type": "code",
   "execution_count": null,
   "id": "8735d663-e0fc-4531-ac1c-3b85257462f5",
   "metadata": {},
   "outputs": [],
   "source": [
    "%load_ext autoreload\n",
    "%autoreload 2"
   ]
  },
  {
   "cell_type": "code",
   "execution_count": null,
   "id": "569eae37-559f-4c3f-959d-8aa890311766",
   "metadata": {},
   "outputs": [],
   "source": [
    "import os\n",
    "def python_fib(n):\n",
    "    if n == 0:\n",
    "        return 0\n",
    "    elif n < 3:\n",
    "        return 1\n",
    "    return python_fib(n - 1) + python_fib(n - 2)"
   ]
  },
  {
   "cell_type": "raw",
   "id": "2faed1c9-f31f-4282-9d3c-bfcb3ce40af2",
   "metadata": {},
   "source": [
    "# Nim code - create a file \n",
    "# Copy the below code to a file and compile it using the next cell\n",
    "# If you have cloned this repository, this file would already available\n",
    "# Make sure you have installed nimpy with `nimble install nimpy`\n",
    "\n",
    "import nimpy\n",
    "\n",
    "proc nim_fib(n: int): int {.exportpy.} =\n",
    "    if n == 0:\n",
    "        return 0\n",
    "    elif n < 3:\n",
    "        return 1\n",
    "    return nim_fib(n-1) + nim_fib(n-2)"
   ]
  },
  {
   "cell_type": "markdown",
   "id": "49a1eab2-e4bb-4791-94d3-4b84e4ab86f6",
   "metadata": {},
   "source": [
    "### Debug mode"
   ]
  },
  {
   "cell_type": "code",
   "execution_count": null,
   "id": "f2c108d5-08bb-4fb9-af30-0c40a399b332",
   "metadata": {},
   "outputs": [],
   "source": [
    "! rm nmath\n",
    "! nim c nmath"
   ]
  },
  {
   "cell_type": "code",
   "execution_count": null,
   "id": "a934f58a-03b2-4653-8486-522f0732566d",
   "metadata": {},
   "outputs": [],
   "source": [
    "import nimporter\n",
    "from time import perf_counter\n",
    "import nmath # Nim imports!\n",
    "\n",
    "print('Measuring Python...')\n",
    "start_py = perf_counter()\n",
    "for i in range(0, 40):\n",
    "    python_fib(i)\n",
    "end_py = perf_counter()\n",
    "\n",
    "\n",
    "print('Measuring Nim...')\n",
    "start_nim = perf_counter()\n",
    "for i in range(0, 40):\n",
    "    nmath.nim_fib(i)\n",
    "end_nim = perf_counter()\n",
    "\n",
    "print('---------')\n",
    "print('Python Elapsed: {:.4f}'.format(end_py - start_py))\n",
    "print('Nim Elapsed: {:.4f}'.format(end_nim - start_nim))"
   ]
  },
  {
   "cell_type": "markdown",
   "id": "cc7297b3-5fb0-44c6-b088-2cb062781ddc",
   "metadata": {},
   "source": [
    "### Release mode\n",
    "\n",
    "Trying out the release mode"
   ]
  },
  {
   "cell_type": "code",
   "execution_count": null,
   "id": "9fc5592e-391b-40ec-ba94-22cda254f029",
   "metadata": {
    "scrolled": true
   },
   "outputs": [],
   "source": [
    "!rm nmath\n",
    "!nim c -d:release nmath"
   ]
  },
  {
   "cell_type": "code",
   "execution_count": null,
   "id": "3c6d03cf-bc08-4a9f-8256-a53c6a7d92d2",
   "metadata": {},
   "outputs": [],
   "source": [
    "import nimporter\n",
    "from time import perf_counter\n",
    "import nmath # Nim imports!\n",
    "print('Measuring Fast Nim...')\n",
    "start_fast_nim = perf_counter()\n",
    "for i in range(0, 40):\n",
    "    nmath.nim_fib(i)\n",
    "end_fast_nim = perf_counter()"
   ]
  },
  {
   "cell_type": "code",
   "execution_count": 8,
   "id": "36aa6753-587c-44cb-8a87-f6aa8fd8e9aa",
   "metadata": {},
   "outputs": [
    {
     "name": "stdout",
     "output_type": "stream",
     "text": [
      "---------\n",
      "Python Elapsed: 57.6691\n",
      "Nim Elapsed: 0.0223\n",
      "Nim Fast Elapsed: 0.0591\n"
     ]
    }
   ],
   "source": [
    "print('---------')\n",
    "print('Python Elapsed: {:.4f}'.format(end_py - start_py))\n",
    "print('Nim Elapsed: {:.4f}'.format(end_nim - start_nim))\n",
    "print('Nim Fast Elapsed: {:.4f}'.format(end_fast_nim - start_fast_nim))"
   ]
  }
 ],
 "metadata": {
  "kernelspec": {
   "display_name": "Python 3 (ipykernel)",
   "language": "python",
   "name": "python3"
  },
  "language_info": {
   "codemirror_mode": {
    "name": "ipython",
    "version": 3
   },
   "file_extension": ".py",
   "mimetype": "text/x-python",
   "name": "python",
   "nbconvert_exporter": "python",
   "pygments_lexer": "ipython3",
   "version": "3.9.20"
  }
 },
 "nbformat": 4,
 "nbformat_minor": 5
}
