{
 "cells": [
  {
   "cell_type": "markdown",
   "metadata": {},
   "source": [
    "Test array vs append speeds\n",
    "\n",
    "1. List\n",
    "2. Numpy"
   ]
  },
  {
   "cell_type": "code",
   "execution_count": 2,
   "metadata": {},
   "outputs": [],
   "source": [
    "import numpy as np\n",
    "from numba import jit, njit\n",
    "import array"
   ]
  },
  {
   "cell_type": "code",
   "execution_count": 3,
   "metadata": {},
   "outputs": [],
   "source": [
    "def list_append(n):\n",
    "    lst = []\n",
    "    for i in range(n):\n",
    "        lst.append(i)\n",
    "    return lst\n",
    "\n",
    "\n",
    "def array_append(n):\n",
    "    arr = array.array(\"i\")\n",
    "    for i in range(n):\n",
    "        arr.append(i)\n",
    "    return arr\n",
    "\n",
    "\n",
    "def numpy_append(n):\n",
    "    x = np.zeros(n)\n",
    "    for i in range(n):\n",
    "        x[i] = i\n",
    "    return x\n",
    "\n",
    "\n",
    "@njit\n",
    "def numba_append(n):\n",
    "    x = np.zeros(n)\n",
    "    for i in range(n):\n",
    "        x[i] = i\n",
    "    return x"
   ]
  },
  {
   "cell_type": "code",
   "execution_count": 4,
   "metadata": {},
   "outputs": [],
   "source": [
    "# Run the functions once for compilation\n",
    "list_append(10)\n",
    "array_append(10)\n",
    "numpy_append(10)\n",
    "numba_append(10);"
   ]
  },
  {
   "cell_type": "code",
   "execution_count": 5,
   "metadata": {},
   "outputs": [
    {
     "name": "stdout",
     "output_type": "stream",
     "text": [
      "Plain Python function\n",
      "229 ms ± 10.4 ms per loop (mean ± std. dev. of 7 runs, 1 loop each)\n",
      "Python array function\n",
      "435 ms ± 15 ms per loop (mean ± std. dev. of 7 runs, 1 loop each)\n",
      "Function with numpy array\n",
      "244 ms ± 5.74 ms per loop (mean ± std. dev. of 7 runs, 1 loop each)\n",
      "Numpy functions with numba\n",
      "5.52 ms ± 262 µs per loop (mean ± std. dev. of 7 runs, 100 loops each)\n"
     ]
    }
   ],
   "source": [
    "# PARAMETERS\n",
    "N = 1000000  # Adjust array size\n",
    "\n",
    "print(\"Plain Python function\")\n",
    "%timeit list_append(N)\n",
    "print(\"Python array function\")\n",
    "%timeit array_append(N)\n",
    "print(\"Function with numpy array\")\n",
    "%timeit numpy_append(N)\n",
    "print(\"Numpy functions with numba\")\n",
    "%timeit numba_append(N)"
   ]
  },
  {
   "cell_type": "code",
   "execution_count": 26,
   "metadata": {},
   "outputs": [
    {
     "data": {
      "text/plain": [
       "10"
      ]
     },
     "execution_count": 26,
     "metadata": {},
     "output_type": "execute_result"
    }
   ],
   "source": [
    "lst = list(range(N))\n",
    "arr = array.array(\"i\", lst)\n",
    "dct = {i: i for i in range(N)}\n",
    "np_arr = np.arange(N)\n",
    "\n",
    "\n",
    "def list_access(d):\n",
    "    l = len(d)\n",
    "    for i in range(l):\n",
    "        d[i]\n",
    "    return l\n",
    "\n",
    "\n",
    "def array_access(d):\n",
    "    l = len(d)\n",
    "    for i in range(l):\n",
    "        d[i]\n",
    "    return l\n",
    "\n",
    "\n",
    "def dict_access(d):\n",
    "    l = len(d)\n",
    "    for i in range(l):\n",
    "        d[i]\n",
    "    return l\n",
    "\n",
    "\n",
    "@njit\n",
    "def numba_array_access(d):\n",
    "    j = 0\n",
    "    l = len(d)\n",
    "    for i in range(l):\n",
    "        d[i]\n",
    "        j += 1\n",
    "    return j\n",
    "\n",
    "\n",
    "@njit\n",
    "def numba_numpy_access(d):\n",
    "    l = len(d)\n",
    "    for i in np.arange(l):\n",
    "        d[i]\n",
    "    return l\n",
    "\n",
    "\n",
    "numba_array_access(arr)\n",
    "numba_numpy_access(np.arange(10))"
   ]
  },
  {
   "cell_type": "code",
   "execution_count": 25,
   "metadata": {},
   "outputs": [
    {
     "name": "stdout",
     "output_type": "stream",
     "text": [
      "1.8 ms ± 50.6 µs per loop (mean ± std. dev. of 7 runs, 100 loops each)\n",
      "2.46 ms ± 24.7 µs per loop (mean ± std. dev. of 7 runs, 100 loops each)\n"
     ]
    }
   ],
   "source": [
    "%timeit np_arr.sum()\n",
    "%timeit np.sum(arr)\n",
    "%timeit sum(arr)"
   ]
  },
  {
   "cell_type": "code",
   "execution_count": 27,
   "metadata": {},
   "outputs": [
    {
     "name": "stdout",
     "output_type": "stream",
     "text": [
      "1.38 µs ± 17.3 ns per loop (mean ± std. dev. of 7 runs, 1000000 loops each)\n",
      "781 ns ± 7.95 ns per loop (mean ± std. dev. of 7 runs, 1000000 loops each)\n",
      "2.7 ms ± 175 µs per loop (mean ± std. dev. of 7 runs, 100 loops each)\n"
     ]
    }
   ],
   "source": [
    "# %timeit list_access(lst)\n",
    "# %timeit array_access(arr)\n",
    "# %timeit dict_access(dct)\n",
    "# %timeit numba_array_access(lst)\n",
    "%timeit numba_array_access(arr)\n",
    "%timeit numba_array_access(np_arr)\n",
    "%timeit numba_numpy_access(np_arr)"
   ]
  }
 ],
 "metadata": {
  "kernelspec": {
   "display_name": "Python 3",
   "language": "python",
   "name": "python3"
  },
  "language_info": {
   "codemirror_mode": {
    "name": "ipython",
    "version": 3
   },
   "file_extension": ".py",
   "mimetype": "text/x-python",
   "name": "python",
   "nbconvert_exporter": "python",
   "pygments_lexer": "ipython3",
   "version": "3.6.9"
  }
 },
 "nbformat": 4,
 "nbformat_minor": 4
}
